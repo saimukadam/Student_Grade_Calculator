{
  "nbformat": 4,
  "nbformat_minor": 0,
  "metadata": {
    "colab": {
      "provenance": []
    },
    "kernelspec": {
      "name": "python3",
      "display_name": "Python 3"
    },
    "language_info": {
      "name": "python"
    }
  },
  "cells": [
    {
      "cell_type": "markdown",
      "source": [
        "**Step 1 – Plan the Project**\n",
        "Features:\n",
        "\n",
        "1. Ask user for Name\n",
        "\n",
        "2. Ask user for Marks in 5 subjects\n",
        "\n",
        "3. Calculate Total Marks & Average\n",
        "\n",
        "4. Assign Grade:\n",
        "\n",
        "Average >= 90 → Excellent\n",
        "\n",
        "Average >= 75 → Very Good\n",
        "\n",
        "Average >= 50 → Good\n",
        "\n",
        "Average < 50 → Needs Improvement\n",
        "\n",
        "5. Print Summary (Name, Marks, Total, Average, Grade)\n",
        "\n",
        "6. Use Functions for:\n",
        "\n",
        "Input marks\n",
        "\n",
        "Calculate total & average\n",
        "\n",
        "Assign grade\n",
        "\n",
        "Display summary"
      ],
      "metadata": {
        "id": "-0sbQc65WMnD"
      }
    },
    {
      "cell_type": "markdown",
      "source": [
        "**Step 2 – Create Functions**"
      ],
      "metadata": {
        "id": "YjPHVV2ZWbEN"
      }
    },
    {
      "cell_type": "markdown",
      "source": [
        "Function 1- input_marks()"
      ],
      "metadata": {
        "id": "JcoGHWWYWiKK"
      }
    },
    {
      "cell_type": "code",
      "execution_count": 2,
      "metadata": {
        "id": "PDYEKEIGWG6S"
      },
      "outputs": [],
      "source": [
        "def input_marks():\n",
        "  marks = []\n",
        "  for i in range (1, 6):\n",
        "    m = float(input(f\"Enter marks for subject {i}: \"))\n",
        "    marks.append(m)\n",
        "  return marks\n",
        "# input_marks()"
      ]
    },
    {
      "cell_type": "markdown",
      "source": [
        "Function 2 – calculate_total_average(marks)"
      ],
      "metadata": {
        "id": "0jsmFFyIXTGI"
      }
    },
    {
      "cell_type": "code",
      "source": [
        "def calculate_total_average(marks):\n",
        "  total = sum(marks)\n",
        "  average = total / len(marks)\n",
        "  return total, average"
      ],
      "metadata": {
        "id": "kcdwCN_bXVCY"
      },
      "execution_count": 6,
      "outputs": []
    },
    {
      "cell_type": "markdown",
      "source": [
        "unction 3 – assign_grade(average)"
      ],
      "metadata": {
        "id": "D5c-VjetXn2l"
      }
    },
    {
      "cell_type": "code",
      "source": [
        "def assign_grade(average):\n",
        "  if average >= 90:\n",
        "    return \"Excellent\"\n",
        "  elif average >= 75:\n",
        "    return \"Very Good\"\n",
        "  elif average >= 50:\n",
        "    return \"Good\"\n",
        "  else:\n",
        "    return \"Needs Improvement\""
      ],
      "metadata": {
        "id": "N9AkatLiXl1x"
      },
      "execution_count": 4,
      "outputs": []
    },
    {
      "cell_type": "markdown",
      "source": [
        "Function 4 – display_summary(name, marks, total, average, grade)"
      ],
      "metadata": {
        "id": "-SIUzCe7YV8a"
      }
    },
    {
      "cell_type": "code",
      "source": [
        "def display_summary(name, marks, total, average, grade):\n",
        "    print(\"\\n----- Student Report -----\")\n",
        "    print(f\"Name: {name}\")\n",
        "    for i, m in enumerate(marks, start=1):\n",
        "        print(f\"Subject {i} Marks: {m}\")\n",
        "    print(f\"Total Marks: {total}\")\n",
        "    print(f\"Average: {average:.2f}\")\n",
        "    print(f\"Grade: {grade}\")\n",
        "    print(\"---------------------------\")"
      ],
      "metadata": {
        "id": "2OvTNA45YVVR"
      },
      "execution_count": 5,
      "outputs": []
    },
    {
      "cell_type": "markdown",
      "source": [
        "**Step 3 – Main Program**"
      ],
      "metadata": {
        "id": "nLwAqS1AYtXm"
      }
    },
    {
      "cell_type": "code",
      "source": [
        "# Main Program\n",
        "name = input(\"Enter your name: \")\n",
        "marks = input_marks()\n",
        "total, average = calculate_total_average(marks)\n",
        "grade = assign_grade(average)\n",
        "display_summary(name, marks, total, average, grade)\n"
      ],
      "metadata": {
        "colab": {
          "base_uri": "https://localhost:8080/"
        },
        "id": "4lA_Rfm6Yu7R",
        "outputId": "a1aa1e2f-1354-48b4-d2a1-bf4e8ac091d3"
      },
      "execution_count": 7,
      "outputs": [
        {
          "output_type": "stream",
          "name": "stdout",
          "text": [
            "Enter your name: Sai\n",
            "Enter marks for subject 1: 78\n",
            "Enter marks for subject 2: 65\n",
            "Enter marks for subject 3: 91\n",
            "Enter marks for subject 4: 84\n",
            "Enter marks for subject 5: 69\n",
            "\n",
            "----- Student Report -----\n",
            "Name: Sai\n",
            "Subject 1 Marks: 78.0\n",
            "Subject 2 Marks: 65.0\n",
            "Subject 3 Marks: 91.0\n",
            "Subject 4 Marks: 84.0\n",
            "Subject 5 Marks: 69.0\n",
            "Total Marks: 387.0\n",
            "Average: 77.40\n",
            "Grade: Very Good\n",
            "---------------------------\n"
          ]
        }
      ]
    }
  ]
}